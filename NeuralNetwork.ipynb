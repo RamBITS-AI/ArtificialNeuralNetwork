{
 "metadata": {
  "language_info": {
   "codemirror_mode": {
    "name": "ipython",
    "version": 3
   },
   "file_extension": ".py",
   "mimetype": "text/x-python",
   "name": "python",
   "nbconvert_exporter": "python",
   "pygments_lexer": "ipython3",
   "version": 3
  },
  "orig_nbformat": 2
 },
 "nbformat": 4,
 "nbformat_minor": 2,
 "cells": [
  {
   "source": [
    "# Neural Network\n",
    "Three Layers in the Neural Network consist of:  \n",
    "    1. Single Input Layer with 3 neurons.  \n",
    "    2. Single Hidden Layer with 4 neurons.  \n",
    "    3. Single Output Layer with 6 neurons.\n",
    "\n",
    "It represents a 2 class classification problem.\n",
    "\n",
    "Weights are initialized randomly.\n",
    "\n",
    "The Activation function is a sigmoid.\n",
    "\n",
    "$$ h_ {\\theta \\hspace{0.5 mm} out} =  \\frac{\\mathrm{1} }{\\mathrm{1} + e^{-h_ {{\\theta} \\hspace{0.5 mm} {net}}}}  $$\n",
    "\n",
    "$$ where, for \\hspace{2 mm} e.g., \\hspace{2 mm} h_ {1 \\hspace{0.85 mm} {net}} = \\omega_1 . i_1 + \\omega_2 . i_2 + b_1 $$\n",
    "\n",
    "The Dataset has samples with 2 features each.\n",
    "\n",
    "![](NeuralNetwork.png)"
   ],
   "cell_type": "markdown",
   "metadata": {}
  },
  {
   "source": [
    "# Objective\n",
    "Define and implement a NN that predicts classes for a test set with decently accurate results.\n",
    "\n",
    "Implement Back propagation algorithm to update weights.\n",
    "\n",
    "Compute the forward and backward passes with error gradients for every input sample.\n",
    "\n",
    "Repeat the process for every sample in the training set.\n"
   ],
   "cell_type": "markdown",
   "metadata": {}
  },
  {
   "cell_type": "code",
   "execution_count": null,
   "metadata": {},
   "outputs": [],
   "source": []
  }
 ]
}